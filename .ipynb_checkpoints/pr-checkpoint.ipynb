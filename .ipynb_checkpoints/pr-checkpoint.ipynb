{
 "cells": [
  {
   "cell_type": "code",
   "execution_count": 1,
   "metadata": {},
   "outputs": [
    {
     "name": "stdout",
     "output_type": "stream",
     "text": [
      "     #YYY/MM/DD  HH:mm:SS.ss  ET GT   MAG  M       LAT        LON  DEPTH  Q  \\\n",
      "0    2023/08/08  08:47:38.18  eq  l  3.35  l  32.37883 -115.12367   14.3  A   \n",
      "1    2023/08/08  15:58:35.00  eq  l  3.58  l  32.38117 -115.12250   15.6  A   \n",
      "2    2023/08/17  05:17:26.31  eq  l  3.44  l  32.99383 -118.84067    5.8  C   \n",
      "3    2023/08/17  19:58:59.98  eq  l  3.39  l  34.89867 -119.03900    8.9  A   \n",
      "4    2023/08/18  10:46:10.34  eq  l  3.67  w  32.39733 -115.13667   10.8  A   \n",
      "..          ...          ...  .. ..   ... ..       ...        ...    ... ..   \n",
      "188  2024/08/07  14:01:07.98  eq  l  3.30  l  35.07983 -119.09600   12.5  A   \n",
      "189  2024/08/07  18:05:48.32  eq  l  3.13  l  35.09367 -119.11400   12.2  D   \n",
      "190  2024/08/07  19:08:25.17  eq  l  3.24  l  35.09600 -119.11133   14.9  A   \n",
      "191  2024/08/07  22:16:58.94  eq  l  3.15  l  35.09750 -119.13100   12.2  A   \n",
      "192  2024/08/07  23:43:32.72  eq  l  3.78  w  35.10183 -119.11817   12.2  A   \n",
      "\n",
      "           EVID    NPH    NGRM  \n",
      "0    40531712.0   61.0  3127.0  \n",
      "1    40531840.0   60.0  3217.0  \n",
      "2    40538616.0   27.0  3443.0  \n",
      "3    39643162.0  141.0  3464.0  \n",
      "4    39643754.0   50.0  3143.0  \n",
      "..          ...    ...     ...  \n",
      "188  40867592.0  137.0  3452.0  \n",
      "189  40868176.0  114.0  3401.0  \n",
      "190  40868336.0   51.0  3443.0  \n",
      "191  40868784.0  109.0  3431.0  \n",
      "192  40868904.0  105.0  3518.0  \n",
      "\n",
      "[193 rows x 13 columns]\n"
     ]
    }
   ],
   "source": [
    "import pandas as pd\n",
    "\n",
    "df = pd.read_csv('data/25.txt', sep='\\s+', skiprows=2)\n",
    "\n",
    "df = df[:-2]\n",
    "\n",
    "print(df)"
   ]
  },
  {
   "cell_type": "code",
   "execution_count": 2,
   "metadata": {},
   "outputs": [
    {
     "name": "stdout",
     "output_type": "stream",
     "text": [
      "     year  month  day  hour  minute  second        EVID       LAT        LON  \\\n",
      "0    2023      8    8     8      47   38.18  40531712.0  32.37883 -115.12367   \n",
      "1    2023      8    8    15      58   35.00  40531840.0  32.38117 -115.12250   \n",
      "2    2023      8   17     5      17   26.31  40538616.0  32.99383 -118.84067   \n",
      "3    2023      8   17    19      58   59.98  39643162.0  34.89867 -119.03900   \n",
      "4    2023      8   18    10      46   10.34  39643754.0  32.39733 -115.13667   \n",
      "..    ...    ...  ...   ...     ...     ...         ...       ...        ...   \n",
      "188  2024      8    7    14       1    7.98  40867592.0  35.07983 -119.09600   \n",
      "189  2024      8    7    18       5   48.32  40868176.0  35.09367 -119.11400   \n",
      "190  2024      8    7    19       8   25.17  40868336.0  35.09600 -119.11133   \n",
      "191  2024      8    7    22      16   58.94  40868784.0  35.09750 -119.13100   \n",
      "192  2024      8    7    23      43   32.72  40868904.0  35.10183 -119.11817   \n",
      "\n",
      "     DEPTH   MAG  \n",
      "0     14.3  3.35  \n",
      "1     15.6  3.58  \n",
      "2      5.8  3.44  \n",
      "3      8.9  3.39  \n",
      "4     10.8  3.67  \n",
      "..     ...   ...  \n",
      "188   12.5  3.30  \n",
      "189   12.2  3.13  \n",
      "190   14.9  3.24  \n",
      "191   12.2  3.15  \n",
      "192   12.2  3.78  \n",
      "\n",
      "[193 rows x 11 columns]\n"
     ]
    }
   ],
   "source": [
    "# Объединяем столбцы Date и Time в один столбец datetime\n",
    "df['datetime'] = pd.to_datetime(df['#YYY/MM/DD'] + ' ' + df['HH:mm:SS.ss'], format='%Y/%m/%d %H:%M:%S.%f')\n",
    "\n",
    "# Выбираем и переименовываем нужные колонки\n",
    "df = df[['datetime', 'EVID', 'LAT', 'LON', 'DEPTH', 'MAG']]\n",
    "\n",
    "df['year'] = df['datetime'].dt.year\n",
    "df['month'] = df['datetime'].dt.month\n",
    "df['day'] = df['datetime'].dt.day\n",
    "df['hour'] = df['datetime'].dt.hour\n",
    "df['minute'] = df['datetime'].dt.minute\n",
    "df['second'] = df['datetime'].dt.second + df['datetime'].dt.microsecond / 1e6\n",
    "\n",
    "df = df[['year', 'month', 'day', 'hour', 'minute', 'second'] + [col for col in df.columns if col not in ['year', 'month', 'day', 'hour', 'minute', 'second', 'datetime']]]\n",
    "\n",
    "# Сброс индексов DataFrame\n",
    "df.reset_index(drop=True, inplace=True)\n",
    "\n",
    "# Выводим полученный DataFrame\n",
    "print(df)"
   ]
  },
  {
   "cell_type": "code",
   "execution_count": 3,
   "metadata": {},
   "outputs": [],
   "source": [
    "df.to_csv('data/25_new.txt', sep=' ', index=False, header=False)"
   ]
  },
  {
   "cell_type": "code",
   "execution_count": null,
   "metadata": {},
   "outputs": [],
   "source": []
  }
 ],
 "metadata": {
  "kernelspec": {
   "display_name": "Python 3 (ipykernel)",
   "language": "python",
   "name": "python3"
  },
  "language_info": {
   "codemirror_mode": {
    "name": "ipython",
    "version": 3
   },
   "file_extension": ".py",
   "mimetype": "text/x-python",
   "name": "python",
   "nbconvert_exporter": "python",
   "pygments_lexer": "ipython3",
   "version": "3.11.7"
  }
 },
 "nbformat": 4,
 "nbformat_minor": 4
}
