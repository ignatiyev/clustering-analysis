{
 "cells": [
  {
   "cell_type": "code",
   "execution_count": 14,
   "metadata": {},
   "outputs": [
    {
     "name": "stdout",
     "output_type": "stream",
     "text": [
      "<class 'pandas.core.frame.DataFrame'>\n",
      "RangeIndex: 1915 entries, 0 to 1914\n",
      "Data columns (total 22 columns):\n",
      " #   Column           Non-Null Count  Dtype  \n",
      "---  ------           --------------  -----  \n",
      " 0   time             1915 non-null   object \n",
      " 1   latitude         1915 non-null   float64\n",
      " 2   longitude        1915 non-null   float64\n",
      " 3   depth            1915 non-null   float64\n",
      " 4   mag              1915 non-null   float64\n",
      " 5   magType          1915 non-null   object \n",
      " 6   nst              1913 non-null   float64\n",
      " 7   gap              1913 non-null   float64\n",
      " 8   dmin             0 non-null      float64\n",
      " 9   rms              1553 non-null   float64\n",
      " 10  net              1915 non-null   object \n",
      " 11  id               1915 non-null   object \n",
      " 12  updated          1915 non-null   object \n",
      " 13  place            1915 non-null   object \n",
      " 14  type             1915 non-null   object \n",
      " 15  horizontalError  0 non-null      float64\n",
      " 16  depthError       475 non-null    float64\n",
      " 17  magError         1 non-null      float64\n",
      " 18  magNst           1692 non-null   float64\n",
      " 19  status           1915 non-null   object \n",
      " 20  locationSource   1915 non-null   object \n",
      " 21  magSource        1915 non-null   object \n",
      "dtypes: float64(12), object(10)\n",
      "memory usage: 329.3+ KB\n",
      "None\n"
     ]
    }
   ],
   "source": [
    "import scipy.io\n",
    "import pandas as pd\n",
    "\n",
    "df = pd.read_csv('data/NEIC_Chile.txt')\n",
    "\n",
    "print(df.info())"
   ]
  },
  {
   "cell_type": "code",
   "execution_count": 16,
   "metadata": {},
   "outputs": [
    {
     "name": "stdout",
     "output_type": "stream",
     "text": [
      "dict_keys(['__header__', '__version__', '__globals__', 'YR', 'MO', 'DY', 'HR', 'MN', 'SC', 'ID', 'Lat', 'Lon', 'Depth', 'Mag', 'Time'])\n"
     ]
    }
   ],
   "source": [
    "mat_file = 'data/NEIC_Chile.mat'\n",
    "data = scipy.io.loadmat(mat_file)\n",
    "\n",
    "# Проверка структуры данных\n",
    "print(data.keys())"
   ]
  },
  {
   "cell_type": "code",
   "execution_count": 22,
   "metadata": {},
   "outputs": [],
   "source": [
    "df2 = pd.DataFrame(data['ID']) "
   ]
  },
  {
   "cell_type": "code",
   "execution_count": 24,
   "metadata": {},
   "outputs": [
    {
     "data": {
      "text/html": [
       "<div>\n",
       "<style scoped>\n",
       "    .dataframe tbody tr th:only-of-type {\n",
       "        vertical-align: middle;\n",
       "    }\n",
       "\n",
       "    .dataframe tbody tr th {\n",
       "        vertical-align: top;\n",
       "    }\n",
       "\n",
       "    .dataframe thead th {\n",
       "        text-align: right;\n",
       "    }\n",
       "</style>\n",
       "<table border=\"1\" class=\"dataframe\">\n",
       "  <thead>\n",
       "    <tr style=\"text-align: right;\">\n",
       "      <th></th>\n",
       "      <th>0</th>\n",
       "      <th>1</th>\n",
       "      <th>2</th>\n",
       "      <th>3</th>\n",
       "      <th>4</th>\n",
       "      <th>5</th>\n",
       "      <th>6</th>\n",
       "      <th>7</th>\n",
       "      <th>8</th>\n",
       "      <th>9</th>\n",
       "      <th>...</th>\n",
       "      <th>1905</th>\n",
       "      <th>1906</th>\n",
       "      <th>1907</th>\n",
       "      <th>1908</th>\n",
       "      <th>1909</th>\n",
       "      <th>1910</th>\n",
       "      <th>1911</th>\n",
       "      <th>1912</th>\n",
       "      <th>1913</th>\n",
       "      <th>1914</th>\n",
       "    </tr>\n",
       "  </thead>\n",
       "  <tbody>\n",
       "    <tr>\n",
       "      <th>0</th>\n",
       "      <td>1914</td>\n",
       "      <td>1913</td>\n",
       "      <td>1912</td>\n",
       "      <td>1911</td>\n",
       "      <td>1910</td>\n",
       "      <td>1909</td>\n",
       "      <td>1908</td>\n",
       "      <td>1907</td>\n",
       "      <td>1906</td>\n",
       "      <td>1905</td>\n",
       "      <td>...</td>\n",
       "      <td>9</td>\n",
       "      <td>8</td>\n",
       "      <td>7</td>\n",
       "      <td>6</td>\n",
       "      <td>5</td>\n",
       "      <td>4</td>\n",
       "      <td>3</td>\n",
       "      <td>2</td>\n",
       "      <td>1</td>\n",
       "      <td>0</td>\n",
       "    </tr>\n",
       "  </tbody>\n",
       "</table>\n",
       "<p>1 rows × 1915 columns</p>\n",
       "</div>"
      ],
      "text/plain": [
       "   0     1     2     3     4     5     6     7     8     9     ...  1905  \\\n",
       "0  1914  1913  1912  1911  1910  1909  1908  1907  1906  1905  ...     9   \n",
       "\n",
       "   1906  1907  1908  1909  1910  1911  1912  1913  1914  \n",
       "0     8     7     6     5     4     3     2     1     0  \n",
       "\n",
       "[1 rows x 1915 columns]"
      ]
     },
     "execution_count": 24,
     "metadata": {},
     "output_type": "execute_result"
    }
   ],
   "source": [
    "df2"
   ]
  },
  {
   "cell_type": "code",
   "execution_count": null,
   "metadata": {},
   "outputs": [],
   "source": []
  }
 ],
 "metadata": {
  "kernelspec": {
   "display_name": "Python 3 (ipykernel)",
   "language": "python",
   "name": "python3"
  },
  "language_info": {
   "codemirror_mode": {
    "name": "ipython",
    "version": 3
   },
   "file_extension": ".py",
   "mimetype": "text/x-python",
   "name": "python",
   "nbconvert_exporter": "python",
   "pygments_lexer": "ipython3",
   "version": "3.11.7"
  }
 },
 "nbformat": 4,
 "nbformat_minor": 4
}
